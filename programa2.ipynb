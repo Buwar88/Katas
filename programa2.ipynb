{
 "cells": [
  {
   "cell_type": "markdown",
   "metadata": {},
   "source": [
    "# Programa 2"
   ]
  },
  {
   "cell_type": "code",
   "execution_count": 5,
   "metadata": {},
   "outputs": [],
   "source": [
    "a = 97\n",
    "b = 55\n",
    "# test expression / expresión de prueba\n",
    "if a < b:\n",
    "    # statement to be run / instrucción a ejecutar\n",
    "    print(b)"
   ]
  },
  {
   "cell_type": "code",
   "execution_count": 6,
   "metadata": {},
   "outputs": [
    {
     "name": "stdout",
     "output_type": "stream",
     "text": [
      "93\n"
     ]
    }
   ],
   "source": [
    "a = 93\n",
    "b = 27\n",
    "if a >= b:\n",
    "    print(a)"
   ]
  },
  {
   "cell_type": "code",
   "execution_count": 7,
   "metadata": {},
   "outputs": [
    {
     "name": "stdout",
     "output_type": "stream",
     "text": [
      "44\n"
     ]
    }
   ],
   "source": [
    "a = 24\n",
    "b = 44\n",
    "if a <= 0:\n",
    "    print(a)\n",
    "print(b)"
   ]
  },
  {
   "cell_type": "markdown",
   "metadata": {},
   "source": [
    "# Kata"
   ]
  },
  {
   "cell_type": "code",
   "execution_count": 8,
   "metadata": {},
   "outputs": [
    {
     "name": "stdout",
     "output_type": "stream",
     "text": [
      "¡Estamos perdid@@@s, perdid@@@s!\n"
     ]
    }
   ],
   "source": [
    "vasteroide= 49\n",
    "\n",
    "if vasteroide > 25:\n",
    "    print(\"¡Estamos perdid@@@s, perdid@@@s!\")\n",
    "else:\n",
    "    print(\"keep calm\")"
   ]
  },
  {
   "cell_type": "code",
   "execution_count": 10,
   "metadata": {},
   "outputs": [
    {
     "name": "stdout",
     "output_type": "stream",
     "text": [
      "Ve preparando tus ojos\n"
     ]
    }
   ],
   "source": [
    "vasteroide= 19\n",
    "\n",
    "if vasteroide >= 20:\n",
    "    print(\"Deberías mirar al cielo\")\n",
    "elif vasteroide >= 17 and vasteroide < 20:\n",
    "    print(\"Ve preparando tus ojos\")\n",
    "else:\n",
    "    print(\"ni te emociones\")"
   ]
  },
  {
   "cell_type": "code",
   "execution_count": 4,
   "metadata": {},
   "outputs": [
    {
     "name": "stdout",
     "output_type": "stream",
     "text": [
      "Corran a los bunkers, habrá mucha destrucción\n"
     ]
    }
   ],
   "source": [
    "vasteroide = 90\n",
    "tasteroide = 40\n",
    "\n",
    "if tasteroide >= 25 and tasteroide < 1000 or vasteroide > 25 and vasteroide <80:\n",
    "    print(\"Corran a los bunkers, habrá mucha destrucción\")\n",
    "elif tasteroide < 25:\n",
    "    print(\"Se va a deshacer\")\n",
    "    if vasteroide > 19 and vasteroide < 25:\n",
    "        print(\"deberías mirar al cielo\")\n",
    "if tasteroide > 1000 and vasteroide > 80:\n",
    "    print(\"Adiós Tierra querida\")"
   ]
  }
 ],
 "metadata": {
  "interpreter": {
   "hash": "b89b5cfaba6639976dc87ff2fec6d58faec662063367e2c229c520fe71072417"
  },
  "kernelspec": {
   "display_name": "Python 3.10.0 64-bit",
   "language": "python",
   "name": "python3"
  },
  "language_info": {
   "codemirror_mode": {
    "name": "ipython",
    "version": 3
   },
   "file_extension": ".py",
   "mimetype": "text/x-python",
   "name": "python",
   "nbconvert_exporter": "python",
   "pygments_lexer": "ipython3",
   "version": "3.10.0"
  },
  "orig_nbformat": 4
 },
 "nbformat": 4,
 "nbformat_minor": 2
}
