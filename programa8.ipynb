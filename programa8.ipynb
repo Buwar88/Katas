{
 "cells": [
  {
   "cell_type": "markdown",
   "metadata": {},
   "source": [
    "# Programa 8"
   ]
  },
  {
   "cell_type": "code",
   "execution_count": 11,
   "metadata": {},
   "outputs": [
    {
     "name": "stdout",
     "output_type": "stream",
     "text": [
      "Reporte:\n",
      "    Promedio total: 17.0%\n",
      "    Tanque 1: 1%\n",
      "    Tanque 2: 20%\n",
      "    Tanque 3: 30%\n",
      "    \n"
     ]
    }
   ],
   "source": [
    "def combustibles(comb1, comb2, comb3):\n",
    "    return f\"\"\"Reporte:\n",
    "    Promedio total: {promedio([comb1, comb2, comb3])}%\n",
    "    Tanque 1: {comb1}%\n",
    "    Tanque 2: {comb2}%\n",
    "    Tanque 3: {comb3}%\n",
    "    \"\"\"\n",
    "print(combustibles(1 , 20 , 30))\n",
    "\n",
    "def promedio(valores):\n",
    "    prom = sum(valores)\n",
    "    num_valores = len(valores)\n",
    "    return prom/num_valores\n",
    "\n",
    "\n"
   ]
  },
  {
   "cell_type": "code",
   "execution_count": 24,
   "metadata": {},
   "outputs": [
    {
     "name": "stdout",
     "output_type": "stream",
     "text": [
      " Destino:Luna\n",
      "    Hora de prelanzamiento: 10hrs\n",
      "    Tiempo de vuelo: 20hrs\n",
      "    Tanque externo: 1000galones\n",
      "    Tanque interno: 2000galones\n",
      "    \n"
     ]
    }
   ],
   "source": [
    "def informe(destino, hrlanz, tvuelo, texterno, tinterno):\n",
    "    return f\"\"\" Destino:{destino}\n",
    "    Hora de prelanzamiento: {hrlanz}hrs\n",
    "    Tiempo de vuelo: {tvuelo}hrs\n",
    "    Tanque externo: {texterno}galones\n",
    "    Tanque interno: {tinterno}galones\n",
    "    \"\"\"\n",
    "print(informe(\"Luna\", 10, 20, 1000, 2000))"
   ]
  },
  {
   "cell_type": "code",
   "execution_count": 31,
   "metadata": {},
   "outputs": [
    {
     "name": "stdout",
     "output_type": "stream",
     "text": [
      " Destino:Luna\n",
      "    Tiempo de vuelo: 3030minutos\n",
      "    Combustible restante: 0galones\n",
      "    \n"
     ]
    }
   ],
   "source": [
    "def informe(destino, *minutos, **reserva_comb):\n",
    "    return f\"\"\" Destino:{destino}\n",
    "    Tiempo de vuelo: {sum(minutos)}minutos\n",
    "    Combustible restante: {sum(reserva_comb)}galones\n",
    "    \"\"\"\n",
    "print(informe(\"Luna\", 10, 20, 1000, 2000))"
   ]
  },
  {
   "cell_type": "code",
   "execution_count": 32,
   "metadata": {},
   "outputs": [
    {
     "name": "stdout",
     "output_type": "stream",
     "text": [
      " Destino:Luna\n",
      "    Tiempo de vuelo: 30minutos\n",
      "    Combustible restante: 3000%\n",
      "    interno, contiene 1000 galones restantes\n",
      "externo, contiene 2000 galones restantes\n",
      "\n"
     ]
    }
   ],
   "source": [
    "def informe(destino, *minutos, **reserva_comb):\n",
    "    reporte= f\"\"\" Destino:{destino}\n",
    "    Tiempo de vuelo: {sum(minutos)}minutos\n",
    "    Combustible restante: {sum(reserva_comb.values())}%\n",
    "    \"\"\"\n",
    "    for tanque, comb in reserva_comb.items():\n",
    "        reporte += f\"{tanque}, contiene {comb} galones restantes\\n\"\n",
    "    return reporte\n",
    "    \n",
    "\n",
    "print(informe(\"Luna\", 10, 20, interno=1000, externo=2000))"
   ]
  }
 ],
 "metadata": {
  "interpreter": {
   "hash": "b89b5cfaba6639976dc87ff2fec6d58faec662063367e2c229c520fe71072417"
  },
  "kernelspec": {
   "display_name": "Python 3.10.0 64-bit",
   "language": "python",
   "name": "python3"
  },
  "language_info": {
   "codemirror_mode": {
    "name": "ipython",
    "version": 3
   },
   "file_extension": ".py",
   "mimetype": "text/x-python",
   "name": "python",
   "nbconvert_exporter": "python",
   "pygments_lexer": "ipython3",
   "version": "3.10.0"
  },
  "orig_nbformat": 4
 },
 "nbformat": 4,
 "nbformat_minor": 2
}
